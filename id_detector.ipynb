{
 "nbformat": 4,
 "nbformat_minor": 0,
 "metadata": {
  "colab": {
   "provenance": []
  },
  "kernelspec": {
   "name": "python3",
   "display_name": "Python 3"
  },
  "language_info": {
   "name": "python"
  }
 },
 "cells": [
  {
   "cell_type": "code",
   "execution_count": null,
   "metadata": {
    "colab": {
     "base_uri": "https://localhost:8080/"
    },
    "id": "Gv735YQyL2Td",
    "outputId": "c20a12dc-bd18-48bf-e74f-e8c62d8e13e3"
   },
   "outputs": [
    {
     "output_type": "stream",
     "name": "stdout",
     "text": [
      "Mounted at /content/gdrive\n"
     ]
    }
   ],
   "source": [
    "from google.colab import drive\n",
    "\n",
    "drive.mount('/content/gdrive')"
   ]
  },
  {
   "cell_type": "code",
   "source": [
    "DIRECTORY = \"gdrive/My Drive/train\"\n",
    "CATEGORIES=[\"yID\",\"nID\"]"
   ],
   "metadata": {
    "id": "zDORd9HPQPNk"
   },
   "execution_count": null,
   "outputs": []
  },
  {
   "cell_type": "code",
   "source": [
    "from tensorflow.keras.preprocessing.image import ImageDataGenerator\n",
    "from tensorflow.keras.applications import MobileNetV2\n",
    "from tensorflow.keras.layers import AveragePooling2D\n",
    "from tensorflow.keras.layers import Dropout\n",
    "from tensorflow.keras.layers import Flatten\n",
    "from tensorflow.keras.layers import Dense\n",
    "from tensorflow.keras.layers import Input\n",
    "from tensorflow.keras.models import Model\n",
    "from tensorflow.keras.optimizers import Adam\n",
    "from tensorflow.keras.applications.mobilenet_v2 import preprocess_input\n",
    "from tensorflow.keras.preprocessing.image import img_to_array\n",
    "from tensorflow.keras.preprocessing.image import load_img\n",
    "from tensorflow.keras.utils import to_categorical\n",
    "from sklearn.preprocessing import LabelBinarizer\n",
    "from sklearn.model_selection import train_test_split\n",
    "from sklearn.metrics import classification_report\n",
    "from imutils import paths\n",
    "import matplotlib.pyplot as plt\n",
    "import numpy as np\n",
    "import os\n",
    "\n",
    "INIT_LR = 1e-4\n",
    "EPOCHS = 20\n",
    "BS = 32\n",
    "\n",
    "print(\"[INFO] loading images...\")\n",
    "\n",
    "data = []\n",
    "labels = []\n",
    "\n",
    "for category in CATEGORIES:\n",
    "    path = os.path.join(DIRECTORY, category)\n",
    "    for img in os.listdir(path):\n",
    "    \timg_path = os.path.join(path, img)\n",
    "    \timage = load_img(img_path, target_size=(224, 224))\n",
    "    \timage = img_to_array(image)\n",
    "    \timage = preprocess_input(image)\n",
    "\n",
    "    \tdata.append(image)\n",
    "    \tlabels.append(category)"
   ],
   "metadata": {
    "colab": {
     "base_uri": "https://localhost:8080/"
    },
    "id": "F5H2KVpdQgUU",
    "outputId": "6782e82d-c374-4ab8-8ca1-9cabeb422f42"
   },
   "execution_count": null,
   "outputs": [
    {
     "output_type": "stream",
     "name": "stdout",
     "text": [
      "[INFO] loading images...\n"
     ]
    }
   ]
  },
  {
   "cell_type": "code",
   "source": [
    "lb = LabelBinarizer()\n",
    "labels = lb.fit_transform(labels)\n",
    "labels = to_categorical(labels)\n",
    "\n",
    "data = np.array(data, dtype=\"float32\")\n",
    "labels = np.array(labels)\n",
    "\n",
    "(trainX, testX, trainY, testY) = train_test_split(data, labels,\n",
    "\ttest_size=0.20, stratify=labels, random_state=42)\n",
    "\n",
    "# construct the training image generator for data augmentation\n",
    "aug = ImageDataGenerator(\n",
    "\trotation_range=20,\n",
    "\tzoom_range=0.15,\n",
    "\twidth_shift_range=0.2,\n",
    "\theight_shift_range=0.2,\n",
    "\tshear_range=0.15,\n",
    "\thorizontal_flip=True,\n",
    "\tfill_mode=\"nearest\")\n",
    "\n",
    "# load the MobileNetV2 network, ensuring the head FC layer sets are\n",
    "# left off\n",
    "baseModel = MobileNetV2(weights=\"imagenet\", include_top=False,\n",
    "\tinput_tensor=Input(shape=(224, 224, 3)))\n",
    "\n",
    "# construct the head of the model that will be placed on top of the\n",
    "# the base model\n",
    "headModel = baseModel.output\n",
    "headModel = AveragePooling2D(pool_size=(7, 7))(headModel)\n",
    "headModel = Flatten(name=\"flatten\")(headModel)\n",
    "headModel = Dense(128, activation=\"relu\")(headModel)\n",
    "headModel = Dropout(0.5)(headModel)\n",
    "headModel = Dense(2, activation=\"softmax\")(headModel)\n",
    "\n",
    "model = Model(inputs=baseModel.input, outputs=headModel)\n",
    "\n",
    "\n",
    "for layer in baseModel.layers:\n",
    "\tlayer.trainable = False\n",
    "\n",
    "\n",
    "print(\"[INFO] compiling model...\")\n",
    "opt = Adam(lr=INIT_LR, decay=INIT_LR / EPOCHS)\n",
    "model.compile(loss=\"binary_crossentropy\", optimizer=opt,\n",
    "\tmetrics=[\"accuracy\"])\n",
    "\n",
    "\n",
    "print(\"[INFO] training head...\")\n",
    "H = model.fit(\n",
    "\taug.flow(trainX, trainY, batch_size=BS),\n",
    "\tsteps_per_epoch=len(trainX) // BS,\n",
    "\tvalidation_data=(testX, testY),\n",
    "\tvalidation_steps=len(testX) // BS,\n",
    "\tepochs=EPOCHS)\n",
    "\n",
    "\n",
    "predIdxs = model.predict(testX, batch_size=BS)\n",
    "predIdxs = np.argmax(predIdxs, axis=1)\n",
    "\n",
    "print(classification_report(testY.argmax(axis=1), predIdxs,\n",
    "\ttarget_names=lb.classes_))\n",
    "\n",
    "print(\"[INFO] saving ID detector model...\")\n",
    "model.save(\"ID_detector.model\", save_format=\"h5\")"
   ],
   "metadata": {
    "colab": {
     "base_uri": "https://localhost:8080/"
    },
    "id": "aYE_z7QLQ51a",
    "outputId": "f44e5e0c-1755-4f9b-c0ba-bcf5b5150957"
   },
   "execution_count": null,
   "outputs": [
    {
     "output_type": "stream",
     "name": "stderr",
     "text": [
      "WARNING:tensorflow:`input_shape` is undefined or non-square, or `rows` is not in [96, 128, 160, 192, 224]. Weights for input shape (224, 224) will be loaded as the default.\n"
     ]
    },
    {
     "output_type": "stream",
     "name": "stdout",
     "text": [
      "Downloading data from https://storage.googleapis.com/tensorflow/keras-applications/mobilenet_v2/mobilenet_v2_weights_tf_dim_ordering_tf_kernels_1.0_224_no_top.h5\n",
      "9406464/9406464 [==============================] - 0s 0us/step\n",
      "[INFO] compiling model...\n",
      "[INFO] training head...\n"
     ]
    },
    {
     "output_type": "stream",
     "name": "stderr",
     "text": [
      "/usr/local/lib/python3.8/dist-packages/keras/optimizers/optimizer_v2/adam.py:110: UserWarning: The `lr` argument is deprecated, use `learning_rate` instead.\n",
      "  super(Adam, self).__init__(name, **kwargs)\n"
     ]
    },
    {
     "output_type": "stream",
     "name": "stdout",
     "text": [
      "Epoch 1/20\n",
      "30/30 [==============================] - 54s 2s/step - loss: 0.6684 - accuracy: 0.6635 - val_loss: 0.4488 - val_accuracy: 0.9583\n",
      "Epoch 2/20\n",
      "30/30 [==============================] - 50s 2s/step - loss: 0.4494 - accuracy: 0.8594 - val_loss: 0.2990 - val_accuracy: 0.9792\n",
      "Epoch 3/20\n",
      "30/30 [==============================] - 49s 2s/step - loss: 0.3303 - accuracy: 0.9208 - val_loss: 0.2151 - val_accuracy: 0.9750\n",
      "Epoch 4/20\n",
      "30/30 [==============================] - 49s 2s/step - loss: 0.2629 - accuracy: 0.9354 - val_loss: 0.1603 - val_accuracy: 0.9792\n",
      "Epoch 5/20\n",
      "30/30 [==============================] - 48s 2s/step - loss: 0.2243 - accuracy: 0.9490 - val_loss: 0.1217 - val_accuracy: 0.9833\n",
      "Epoch 6/20\n",
      "30/30 [==============================] - 47s 2s/step - loss: 0.1733 - accuracy: 0.9719 - val_loss: 0.0969 - val_accuracy: 0.9833\n",
      "Epoch 7/20\n",
      "30/30 [==============================] - 49s 2s/step - loss: 0.1530 - accuracy: 0.9698 - val_loss: 0.0796 - val_accuracy: 0.9833\n",
      "Epoch 8/20\n",
      "30/30 [==============================] - 47s 2s/step - loss: 0.1197 - accuracy: 0.9792 - val_loss: 0.0659 - val_accuracy: 0.9875\n",
      "Epoch 9/20\n",
      "30/30 [==============================] - 49s 2s/step - loss: 0.1106 - accuracy: 0.9740 - val_loss: 0.0575 - val_accuracy: 0.9875\n",
      "Epoch 10/20\n",
      "30/30 [==============================] - 47s 2s/step - loss: 0.1057 - accuracy: 0.9771 - val_loss: 0.0473 - val_accuracy: 0.9917\n",
      "Epoch 11/20\n",
      "30/30 [==============================] - 51s 2s/step - loss: 0.0908 - accuracy: 0.9802 - val_loss: 0.0429 - val_accuracy: 0.9917\n",
      "Epoch 12/20\n",
      "30/30 [==============================] - 47s 2s/step - loss: 0.0787 - accuracy: 0.9854 - val_loss: 0.0403 - val_accuracy: 0.9917\n",
      "Epoch 13/20\n",
      "30/30 [==============================] - 51s 2s/step - loss: 0.0813 - accuracy: 0.9792 - val_loss: 0.0336 - val_accuracy: 0.9917\n",
      "Epoch 14/20\n",
      "30/30 [==============================] - 47s 2s/step - loss: 0.0749 - accuracy: 0.9823 - val_loss: 0.0322 - val_accuracy: 0.9917\n",
      "Epoch 15/20\n",
      "30/30 [==============================] - 47s 2s/step - loss: 0.0773 - accuracy: 0.9812 - val_loss: 0.0300 - val_accuracy: 0.9917\n",
      "Epoch 16/20\n",
      "30/30 [==============================] - 47s 2s/step - loss: 0.0679 - accuracy: 0.9854 - val_loss: 0.0276 - val_accuracy: 0.9958\n",
      "Epoch 17/20\n",
      "30/30 [==============================] - 47s 2s/step - loss: 0.0600 - accuracy: 0.9875 - val_loss: 0.0250 - val_accuracy: 0.9958\n",
      "Epoch 18/20\n",
      "30/30 [==============================] - 49s 2s/step - loss: 0.0591 - accuracy: 0.9823 - val_loss: 0.0258 - val_accuracy: 0.9917\n",
      "Epoch 19/20\n",
      "30/30 [==============================] - 46s 2s/step - loss: 0.0551 - accuracy: 0.9875 - val_loss: 0.0212 - val_accuracy: 0.9958\n",
      "Epoch 20/20\n",
      "30/30 [==============================] - 46s 2s/step - loss: 0.0420 - accuracy: 0.9927 - val_loss: 0.0238 - val_accuracy: 0.9917\n",
      "[INFO] evaluating network...\n",
      "8/8 [==============================] - 8s 896ms/step\n",
      "              precision    recall  f1-score   support\n",
      "\n",
      "         nID       1.00      0.98      0.99       120\n",
      "         yID       0.98      1.00      0.99       120\n",
      "\n",
      "    accuracy                           0.99       240\n",
      "   macro avg       0.99      0.99      0.99       240\n",
      "weighted avg       0.99      0.99      0.99       240\n",
      "\n",
      "[INFO] saving mask detector model...\n"
     ]
    }
   ]
  },
  {
   "cell_type": "code",
   "source": [
    "N = EPOCHS\n",
    "plt.style.use(\"ggplot\")\n",
    "plt.figure()\n",
    "plt.plot(np.arange(0, N), H.history[\"loss\"], label=\"train loss\")\n",
    "plt.plot(np.arange(0, N), H.history[\"val_loss\"], label=\"validation loss\")\n",
    "plt.plot(np.arange(0, N), H.history[\"accuracy\"], label=\"train accuracy\")\n",
    "plt.plot(np.arange(0, N), H.history[\"val_accuracy\"], label=\"validation accuracy\")\n",
    "plt.title(\"Training Loss and Accuracy\")\n",
    "plt.xlabel(\"Epoch #\")\n",
    "plt.ylabel(\"Loss/Accuracy\")\n",
    "plt.legend(loc=\"lower left\")\n",
    "plt.savefig(\"plot.png\")"
   ],
   "metadata": {
    "colab": {
     "base_uri": "https://localhost:8080/",
     "height": 320
    },
    "id": "LeUxKCoeRNdT",
    "outputId": "b1acdb21-f550-4aa3-f2fe-22227a2016ae"
   },
   "execution_count": null,
   "outputs": [
    {
     "output_type": "display_data",
     "data": {
      "text/plain": [
       "<Figure size 432x288 with 1 Axes>"
      ],
      "image/png": "[encoded data removed]"
     },
     "metadata": {}
    }
   ]
  },
  {
   "cell_type": "code",
   "source": [
    "model.save(\"gdrive/My Drive/train/ID_detector.model\", save_format=\"h5\")"
   ],
   "metadata": {
    "id": "1awNKk0iWcaH"
   },
   "execution_count": null,
   "outputs": []
  },
  {
   "cell_type": "code",
   "source": [
    "np.array(data)[0].shape"
   ],
   "metadata": {
    "colab": {
     "base_uri": "https://localhost:8080/"
    },
    "id": "5_1_OjEMW4kD",
    "outputId": "607892f6-ec34-4442-b6d1-79d3f68c2ff3"
   },
   "execution_count": null,
   "outputs": [
    {
     "output_type": "execute_result",
     "data": {
      "text/plain": [
       "(224, 224, 3)"
      ]
     },
     "metadata": {},
     "execution_count": 17
    }
   ]
  },
  {
   "cell_type": "code",
   "source": [],
   "metadata": {
    "id": "0jIiWRj7oIRG"
   },
   "execution_count": null,
   "outputs": []
  }
 ]
}
